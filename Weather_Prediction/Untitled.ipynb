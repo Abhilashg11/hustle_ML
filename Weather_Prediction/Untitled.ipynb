{
 "cells": [
  {
   "cell_type": "code",
   "execution_count": 172,
   "id": "4253cef5-33dd-4eab-aa0d-8ccda3b698e6",
   "metadata": {},
   "outputs": [],
   "source": [
    "import pandas as pd\n",
    "import seaborn as sns"
   ]
  },
  {
   "cell_type": "code",
   "execution_count": 173,
   "id": "79461d89-5713-4ad2-897b-0da08562c639",
   "metadata": {},
   "outputs": [],
   "source": [
    "df = pd.read_csv(r\"D:\\hustle\\Weather_Prediction\\3806833.csv\",index_col='DATE')"
   ]
  },
  {
   "cell_type": "code",
   "execution_count": 174,
   "id": "21c688bc-8999-4592-9ce3-37bf1be3d343",
   "metadata": {},
   "outputs": [
    {
     "data": {
      "text/html": [
       "<div>\n",
       "<style scoped>\n",
       "    .dataframe tbody tr th:only-of-type {\n",
       "        vertical-align: middle;\n",
       "    }\n",
       "\n",
       "    .dataframe tbody tr th {\n",
       "        vertical-align: top;\n",
       "    }\n",
       "\n",
       "    .dataframe thead th {\n",
       "        text-align: right;\n",
       "    }\n",
       "</style>\n",
       "<table border=\"1\" class=\"dataframe\">\n",
       "  <thead>\n",
       "    <tr style=\"text-align: right;\">\n",
       "      <th></th>\n",
       "      <th>STATION</th>\n",
       "      <th>NAME</th>\n",
       "      <th>ACMH</th>\n",
       "      <th>ACSH</th>\n",
       "      <th>AWND</th>\n",
       "      <th>FMTM</th>\n",
       "      <th>PGTM</th>\n",
       "      <th>PRCP</th>\n",
       "      <th>SNOW</th>\n",
       "      <th>SNWD</th>\n",
       "      <th>...</th>\n",
       "      <th>WT13</th>\n",
       "      <th>WT14</th>\n",
       "      <th>WT15</th>\n",
       "      <th>WT16</th>\n",
       "      <th>WT17</th>\n",
       "      <th>WT18</th>\n",
       "      <th>WT19</th>\n",
       "      <th>WT21</th>\n",
       "      <th>WT22</th>\n",
       "      <th>WV01</th>\n",
       "    </tr>\n",
       "    <tr>\n",
       "      <th>DATE</th>\n",
       "      <th></th>\n",
       "      <th></th>\n",
       "      <th></th>\n",
       "      <th></th>\n",
       "      <th></th>\n",
       "      <th></th>\n",
       "      <th></th>\n",
       "      <th></th>\n",
       "      <th></th>\n",
       "      <th></th>\n",
       "      <th></th>\n",
       "      <th></th>\n",
       "      <th></th>\n",
       "      <th></th>\n",
       "      <th></th>\n",
       "      <th></th>\n",
       "      <th></th>\n",
       "      <th></th>\n",
       "      <th></th>\n",
       "      <th></th>\n",
       "      <th></th>\n",
       "    </tr>\n",
       "  </thead>\n",
       "  <tbody>\n",
       "    <tr>\n",
       "      <th>1970-01-01</th>\n",
       "      <td>USW00094789</td>\n",
       "      <td>JFK INTERNATIONAL AIRPORT, NY US</td>\n",
       "      <td>80.0</td>\n",
       "      <td>90.0</td>\n",
       "      <td>NaN</td>\n",
       "      <td>NaN</td>\n",
       "      <td>NaN</td>\n",
       "      <td>0.00</td>\n",
       "      <td>0.0</td>\n",
       "      <td>0.0</td>\n",
       "      <td>...</td>\n",
       "      <td>NaN</td>\n",
       "      <td>NaN</td>\n",
       "      <td>NaN</td>\n",
       "      <td>NaN</td>\n",
       "      <td>NaN</td>\n",
       "      <td>NaN</td>\n",
       "      <td>NaN</td>\n",
       "      <td>NaN</td>\n",
       "      <td>NaN</td>\n",
       "      <td>NaN</td>\n",
       "    </tr>\n",
       "    <tr>\n",
       "      <th>1970-01-02</th>\n",
       "      <td>USW00094789</td>\n",
       "      <td>JFK INTERNATIONAL AIRPORT, NY US</td>\n",
       "      <td>30.0</td>\n",
       "      <td>20.0</td>\n",
       "      <td>NaN</td>\n",
       "      <td>NaN</td>\n",
       "      <td>NaN</td>\n",
       "      <td>0.00</td>\n",
       "      <td>0.0</td>\n",
       "      <td>0.0</td>\n",
       "      <td>...</td>\n",
       "      <td>NaN</td>\n",
       "      <td>NaN</td>\n",
       "      <td>NaN</td>\n",
       "      <td>NaN</td>\n",
       "      <td>NaN</td>\n",
       "      <td>NaN</td>\n",
       "      <td>NaN</td>\n",
       "      <td>NaN</td>\n",
       "      <td>NaN</td>\n",
       "      <td>NaN</td>\n",
       "    </tr>\n",
       "    <tr>\n",
       "      <th>1970-01-03</th>\n",
       "      <td>USW00094789</td>\n",
       "      <td>JFK INTERNATIONAL AIRPORT, NY US</td>\n",
       "      <td>80.0</td>\n",
       "      <td>100.0</td>\n",
       "      <td>NaN</td>\n",
       "      <td>NaN</td>\n",
       "      <td>NaN</td>\n",
       "      <td>0.02</td>\n",
       "      <td>0.0</td>\n",
       "      <td>0.0</td>\n",
       "      <td>...</td>\n",
       "      <td>NaN</td>\n",
       "      <td>NaN</td>\n",
       "      <td>NaN</td>\n",
       "      <td>1.0</td>\n",
       "      <td>NaN</td>\n",
       "      <td>1.0</td>\n",
       "      <td>NaN</td>\n",
       "      <td>NaN</td>\n",
       "      <td>NaN</td>\n",
       "      <td>NaN</td>\n",
       "    </tr>\n",
       "    <tr>\n",
       "      <th>1970-01-04</th>\n",
       "      <td>USW00094789</td>\n",
       "      <td>JFK INTERNATIONAL AIRPORT, NY US</td>\n",
       "      <td>10.0</td>\n",
       "      <td>20.0</td>\n",
       "      <td>NaN</td>\n",
       "      <td>NaN</td>\n",
       "      <td>NaN</td>\n",
       "      <td>0.00</td>\n",
       "      <td>0.0</td>\n",
       "      <td>0.0</td>\n",
       "      <td>...</td>\n",
       "      <td>NaN</td>\n",
       "      <td>NaN</td>\n",
       "      <td>NaN</td>\n",
       "      <td>NaN</td>\n",
       "      <td>NaN</td>\n",
       "      <td>1.0</td>\n",
       "      <td>NaN</td>\n",
       "      <td>NaN</td>\n",
       "      <td>NaN</td>\n",
       "      <td>NaN</td>\n",
       "    </tr>\n",
       "    <tr>\n",
       "      <th>1970-01-05</th>\n",
       "      <td>USW00094789</td>\n",
       "      <td>JFK INTERNATIONAL AIRPORT, NY US</td>\n",
       "      <td>30.0</td>\n",
       "      <td>10.0</td>\n",
       "      <td>NaN</td>\n",
       "      <td>NaN</td>\n",
       "      <td>NaN</td>\n",
       "      <td>0.00</td>\n",
       "      <td>0.0</td>\n",
       "      <td>0.0</td>\n",
       "      <td>...</td>\n",
       "      <td>NaN</td>\n",
       "      <td>NaN</td>\n",
       "      <td>NaN</td>\n",
       "      <td>NaN</td>\n",
       "      <td>NaN</td>\n",
       "      <td>NaN</td>\n",
       "      <td>NaN</td>\n",
       "      <td>NaN</td>\n",
       "      <td>NaN</td>\n",
       "      <td>NaN</td>\n",
       "    </tr>\n",
       "  </tbody>\n",
       "</table>\n",
       "<p>5 rows × 45 columns</p>\n",
       "</div>"
      ],
      "text/plain": [
       "                STATION                              NAME  ACMH   ACSH  AWND  \\\n",
       "DATE                                                                           \n",
       "1970-01-01  USW00094789  JFK INTERNATIONAL AIRPORT, NY US  80.0   90.0   NaN   \n",
       "1970-01-02  USW00094789  JFK INTERNATIONAL AIRPORT, NY US  30.0   20.0   NaN   \n",
       "1970-01-03  USW00094789  JFK INTERNATIONAL AIRPORT, NY US  80.0  100.0   NaN   \n",
       "1970-01-04  USW00094789  JFK INTERNATIONAL AIRPORT, NY US  10.0   20.0   NaN   \n",
       "1970-01-05  USW00094789  JFK INTERNATIONAL AIRPORT, NY US  30.0   10.0   NaN   \n",
       "\n",
       "            FMTM  PGTM  PRCP  SNOW  SNWD  ...  WT13  WT14  WT15  WT16  WT17  \\\n",
       "DATE                                      ...                                 \n",
       "1970-01-01   NaN   NaN  0.00   0.0   0.0  ...   NaN   NaN   NaN   NaN   NaN   \n",
       "1970-01-02   NaN   NaN  0.00   0.0   0.0  ...   NaN   NaN   NaN   NaN   NaN   \n",
       "1970-01-03   NaN   NaN  0.02   0.0   0.0  ...   NaN   NaN   NaN   1.0   NaN   \n",
       "1970-01-04   NaN   NaN  0.00   0.0   0.0  ...   NaN   NaN   NaN   NaN   NaN   \n",
       "1970-01-05   NaN   NaN  0.00   0.0   0.0  ...   NaN   NaN   NaN   NaN   NaN   \n",
       "\n",
       "            WT18  WT19  WT21  WT22  WV01  \n",
       "DATE                                      \n",
       "1970-01-01   NaN   NaN   NaN   NaN   NaN  \n",
       "1970-01-02   NaN   NaN   NaN   NaN   NaN  \n",
       "1970-01-03   1.0   NaN   NaN   NaN   NaN  \n",
       "1970-01-04   1.0   NaN   NaN   NaN   NaN  \n",
       "1970-01-05   NaN   NaN   NaN   NaN   NaN  \n",
       "\n",
       "[5 rows x 45 columns]"
      ]
     },
     "execution_count": 174,
     "metadata": {},
     "output_type": "execute_result"
    }
   ],
   "source": [
    "df.head()"
   ]
  },
  {
   "cell_type": "code",
   "execution_count": 175,
   "id": "38a0e273-f537-48bd-a095-285f562333f2",
   "metadata": {},
   "outputs": [
    {
     "data": {
      "text/plain": [
       "Index(['STATION', 'NAME', 'ACMH', 'ACSH', 'AWND', 'FMTM', 'PGTM', 'PRCP',\n",
       "       'SNOW', 'SNWD', 'TAVG', 'TMAX', 'TMIN', 'TSUN', 'WDF1', 'WDF2', 'WDF5',\n",
       "       'WDFG', 'WDFM', 'WESD', 'WSF1', 'WSF2', 'WSF5', 'WSFG', 'WSFM', 'WT01',\n",
       "       'WT02', 'WT03', 'WT04', 'WT05', 'WT06', 'WT07', 'WT08', 'WT09', 'WT11',\n",
       "       'WT13', 'WT14', 'WT15', 'WT16', 'WT17', 'WT18', 'WT19', 'WT21', 'WT22',\n",
       "       'WV01'],\n",
       "      dtype='object')"
      ]
     },
     "execution_count": 175,
     "metadata": {},
     "output_type": "execute_result"
    }
   ],
   "source": [
    "df.columns"
   ]
  },
  {
   "cell_type": "code",
   "execution_count": 176,
   "id": "8d201996-35e9-4e23-a8bd-19edc73684b2",
   "metadata": {},
   "outputs": [
    {
     "data": {
      "text/plain": [
       "STATION        0\n",
       "NAME           0\n",
       "ACMH       10371\n",
       "ACSH       10370\n",
       "AWND        5145\n",
       "FMTM        9862\n",
       "PGTM        7717\n",
       "PRCP           1\n",
       "SNOW           1\n",
       "SNWD           5\n",
       "TAVG       13123\n",
       "TMAX           1\n",
       "TMIN           1\n",
       "TSUN       19955\n",
       "WDF1       10375\n",
       "WDF2        9647\n",
       "WDF5        9730\n",
       "WDFG       14865\n",
       "WDFM       19985\n",
       "WESD       13915\n",
       "WSF1       10372\n",
       "WSF2        9647\n",
       "WSF5        9731\n",
       "WSFG       12523\n",
       "WSFM       19985\n",
       "WT01       12600\n",
       "WT02       18681\n",
       "WT03       18640\n",
       "WT04       19640\n",
       "WT05       19622\n",
       "WT06       19804\n",
       "WT07       19878\n",
       "WT08       16030\n",
       "WT09       19846\n",
       "WT11       19972\n",
       "WT13       17801\n",
       "WT14       19099\n",
       "WT15       19944\n",
       "WT16       13409\n",
       "WT17       19926\n",
       "WT18       18819\n",
       "WT19       19985\n",
       "WT21       19981\n",
       "WT22       19937\n",
       "WV01       19985\n",
       "dtype: int64"
      ]
     },
     "execution_count": 176,
     "metadata": {},
     "output_type": "execute_result"
    }
   ],
   "source": [
    "df.isnull().sum()\n"
   ]
  },
  {
   "cell_type": "code",
   "execution_count": 177,
   "id": "58a95f9c-dea4-46ab-b316-85a2d236d69a",
   "metadata": {},
   "outputs": [],
   "source": [
    "null_per = df.isnull().sum()/df.shape[0]"
   ]
  },
  {
   "cell_type": "code",
   "execution_count": 178,
   "id": "6a3f29fe-8dbd-4703-8f42-0ce552799424",
   "metadata": {},
   "outputs": [
    {
     "data": {
      "text/plain": [
       "STATION    0.000000\n",
       "NAME       0.000000\n",
       "ACMH       0.518913\n",
       "ACSH       0.518863\n",
       "AWND       0.257430\n",
       "FMTM       0.493445\n",
       "PGTM       0.386120\n",
       "PRCP       0.000050\n",
       "SNOW       0.000050\n",
       "SNWD       0.000250\n",
       "TAVG       0.656610\n",
       "TMAX       0.000050\n",
       "TMIN       0.000050\n",
       "TSUN       0.998449\n",
       "WDF1       0.519113\n",
       "WDF2       0.482688\n",
       "WDF5       0.486841\n",
       "WDFG       0.743771\n",
       "WDFM       0.999950\n",
       "WESD       0.696237\n",
       "WSF1       0.518963\n",
       "WSF2       0.482688\n",
       "WSF5       0.486891\n",
       "WSFG       0.626589\n",
       "WSFM       0.999950\n",
       "WT01       0.630441\n",
       "WT02       0.934704\n",
       "WT03       0.932653\n",
       "WT04       0.982688\n",
       "WT05       0.981787\n",
       "WT06       0.990894\n",
       "WT07       0.994596\n",
       "WT08       0.802061\n",
       "WT09       0.992995\n",
       "WT11       0.999300\n",
       "WT13       0.890673\n",
       "WT14       0.955619\n",
       "WT15       0.997899\n",
       "WT16       0.670920\n",
       "WT17       0.996998\n",
       "WT18       0.941609\n",
       "WT19       0.999950\n",
       "WT21       0.999750\n",
       "WT22       0.997548\n",
       "WV01       0.999950\n",
       "dtype: float64"
      ]
     },
     "execution_count": 178,
     "metadata": {},
     "output_type": "execute_result"
    }
   ],
   "source": [
    "null_per"
   ]
  },
  {
   "cell_type": "code",
   "execution_count": 179,
   "id": "a7ad0004-6291-4f63-86f3-2ad031257370",
   "metadata": {},
   "outputs": [],
   "source": [
    "valid_coulmns = df.columns[null_per < .05]"
   ]
  },
  {
   "cell_type": "code",
   "execution_count": 180,
   "id": "33cb5342-6c96-4402-8a51-5f366b31234e",
   "metadata": {},
   "outputs": [
    {
     "data": {
      "text/plain": [
       "Index(['STATION', 'NAME', 'PRCP', 'SNOW', 'SNWD', 'TMAX', 'TMIN'], dtype='object')"
      ]
     },
     "execution_count": 180,
     "metadata": {},
     "output_type": "execute_result"
    }
   ],
   "source": [
    "valid_coulmns"
   ]
  },
  {
   "cell_type": "code",
   "execution_count": 181,
   "id": "9acd80dd-d897-4f79-b68d-18f93e17640d",
   "metadata": {},
   "outputs": [],
   "source": [
    "df = df[valid_coulmns].copy()"
   ]
  },
  {
   "cell_type": "code",
   "execution_count": 182,
   "id": "4660727b-a6d7-4cd2-88d0-26e7bb242b93",
   "metadata": {},
   "outputs": [
    {
     "data": {
      "text/html": [
       "<div>\n",
       "<style scoped>\n",
       "    .dataframe tbody tr th:only-of-type {\n",
       "        vertical-align: middle;\n",
       "    }\n",
       "\n",
       "    .dataframe tbody tr th {\n",
       "        vertical-align: top;\n",
       "    }\n",
       "\n",
       "    .dataframe thead th {\n",
       "        text-align: right;\n",
       "    }\n",
       "</style>\n",
       "<table border=\"1\" class=\"dataframe\">\n",
       "  <thead>\n",
       "    <tr style=\"text-align: right;\">\n",
       "      <th></th>\n",
       "      <th>STATION</th>\n",
       "      <th>NAME</th>\n",
       "      <th>PRCP</th>\n",
       "      <th>SNOW</th>\n",
       "      <th>SNWD</th>\n",
       "      <th>TMAX</th>\n",
       "      <th>TMIN</th>\n",
       "    </tr>\n",
       "    <tr>\n",
       "      <th>DATE</th>\n",
       "      <th></th>\n",
       "      <th></th>\n",
       "      <th></th>\n",
       "      <th></th>\n",
       "      <th></th>\n",
       "      <th></th>\n",
       "      <th></th>\n",
       "    </tr>\n",
       "  </thead>\n",
       "  <tbody>\n",
       "    <tr>\n",
       "      <th>1970-01-01</th>\n",
       "      <td>USW00094789</td>\n",
       "      <td>JFK INTERNATIONAL AIRPORT, NY US</td>\n",
       "      <td>0.00</td>\n",
       "      <td>0.0</td>\n",
       "      <td>0.0</td>\n",
       "      <td>28.0</td>\n",
       "      <td>22.0</td>\n",
       "    </tr>\n",
       "    <tr>\n",
       "      <th>1970-01-02</th>\n",
       "      <td>USW00094789</td>\n",
       "      <td>JFK INTERNATIONAL AIRPORT, NY US</td>\n",
       "      <td>0.00</td>\n",
       "      <td>0.0</td>\n",
       "      <td>0.0</td>\n",
       "      <td>31.0</td>\n",
       "      <td>22.0</td>\n",
       "    </tr>\n",
       "    <tr>\n",
       "      <th>1970-01-03</th>\n",
       "      <td>USW00094789</td>\n",
       "      <td>JFK INTERNATIONAL AIRPORT, NY US</td>\n",
       "      <td>0.02</td>\n",
       "      <td>0.0</td>\n",
       "      <td>0.0</td>\n",
       "      <td>38.0</td>\n",
       "      <td>25.0</td>\n",
       "    </tr>\n",
       "    <tr>\n",
       "      <th>1970-01-04</th>\n",
       "      <td>USW00094789</td>\n",
       "      <td>JFK INTERNATIONAL AIRPORT, NY US</td>\n",
       "      <td>0.00</td>\n",
       "      <td>0.0</td>\n",
       "      <td>0.0</td>\n",
       "      <td>31.0</td>\n",
       "      <td>23.0</td>\n",
       "    </tr>\n",
       "    <tr>\n",
       "      <th>1970-01-05</th>\n",
       "      <td>USW00094789</td>\n",
       "      <td>JFK INTERNATIONAL AIRPORT, NY US</td>\n",
       "      <td>0.00</td>\n",
       "      <td>0.0</td>\n",
       "      <td>0.0</td>\n",
       "      <td>35.0</td>\n",
       "      <td>21.0</td>\n",
       "    </tr>\n",
       "    <tr>\n",
       "      <th>...</th>\n",
       "      <td>...</td>\n",
       "      <td>...</td>\n",
       "      <td>...</td>\n",
       "      <td>...</td>\n",
       "      <td>...</td>\n",
       "      <td>...</td>\n",
       "      <td>...</td>\n",
       "    </tr>\n",
       "    <tr>\n",
       "      <th>2024-09-15</th>\n",
       "      <td>USW00094789</td>\n",
       "      <td>JFK INTERNATIONAL AIRPORT, NY US</td>\n",
       "      <td>0.00</td>\n",
       "      <td>0.0</td>\n",
       "      <td>0.0</td>\n",
       "      <td>81.0</td>\n",
       "      <td>60.0</td>\n",
       "    </tr>\n",
       "    <tr>\n",
       "      <th>2024-09-16</th>\n",
       "      <td>USW00094789</td>\n",
       "      <td>JFK INTERNATIONAL AIRPORT, NY US</td>\n",
       "      <td>0.00</td>\n",
       "      <td>0.0</td>\n",
       "      <td>0.0</td>\n",
       "      <td>78.0</td>\n",
       "      <td>58.0</td>\n",
       "    </tr>\n",
       "    <tr>\n",
       "      <th>2024-09-17</th>\n",
       "      <td>USW00094789</td>\n",
       "      <td>JFK INTERNATIONAL AIRPORT, NY US</td>\n",
       "      <td>0.00</td>\n",
       "      <td>0.0</td>\n",
       "      <td>0.0</td>\n",
       "      <td>81.0</td>\n",
       "      <td>65.0</td>\n",
       "    </tr>\n",
       "    <tr>\n",
       "      <th>2024-09-18</th>\n",
       "      <td>USW00094789</td>\n",
       "      <td>JFK INTERNATIONAL AIRPORT, NY US</td>\n",
       "      <td>0.00</td>\n",
       "      <td>0.0</td>\n",
       "      <td>NaN</td>\n",
       "      <td>80.0</td>\n",
       "      <td>67.0</td>\n",
       "    </tr>\n",
       "    <tr>\n",
       "      <th>2024-09-19</th>\n",
       "      <td>USW00094789</td>\n",
       "      <td>JFK INTERNATIONAL AIRPORT, NY US</td>\n",
       "      <td>NaN</td>\n",
       "      <td>NaN</td>\n",
       "      <td>NaN</td>\n",
       "      <td>NaN</td>\n",
       "      <td>NaN</td>\n",
       "    </tr>\n",
       "  </tbody>\n",
       "</table>\n",
       "<p>19986 rows × 7 columns</p>\n",
       "</div>"
      ],
      "text/plain": [
       "                STATION                              NAME  PRCP  SNOW  SNWD  \\\n",
       "DATE                                                                          \n",
       "1970-01-01  USW00094789  JFK INTERNATIONAL AIRPORT, NY US  0.00   0.0   0.0   \n",
       "1970-01-02  USW00094789  JFK INTERNATIONAL AIRPORT, NY US  0.00   0.0   0.0   \n",
       "1970-01-03  USW00094789  JFK INTERNATIONAL AIRPORT, NY US  0.02   0.0   0.0   \n",
       "1970-01-04  USW00094789  JFK INTERNATIONAL AIRPORT, NY US  0.00   0.0   0.0   \n",
       "1970-01-05  USW00094789  JFK INTERNATIONAL AIRPORT, NY US  0.00   0.0   0.0   \n",
       "...                 ...                               ...   ...   ...   ...   \n",
       "2024-09-15  USW00094789  JFK INTERNATIONAL AIRPORT, NY US  0.00   0.0   0.0   \n",
       "2024-09-16  USW00094789  JFK INTERNATIONAL AIRPORT, NY US  0.00   0.0   0.0   \n",
       "2024-09-17  USW00094789  JFK INTERNATIONAL AIRPORT, NY US  0.00   0.0   0.0   \n",
       "2024-09-18  USW00094789  JFK INTERNATIONAL AIRPORT, NY US  0.00   0.0   NaN   \n",
       "2024-09-19  USW00094789  JFK INTERNATIONAL AIRPORT, NY US   NaN   NaN   NaN   \n",
       "\n",
       "            TMAX  TMIN  \n",
       "DATE                    \n",
       "1970-01-01  28.0  22.0  \n",
       "1970-01-02  31.0  22.0  \n",
       "1970-01-03  38.0  25.0  \n",
       "1970-01-04  31.0  23.0  \n",
       "1970-01-05  35.0  21.0  \n",
       "...          ...   ...  \n",
       "2024-09-15  81.0  60.0  \n",
       "2024-09-16  78.0  58.0  \n",
       "2024-09-17  81.0  65.0  \n",
       "2024-09-18  80.0  67.0  \n",
       "2024-09-19   NaN   NaN  \n",
       "\n",
       "[19986 rows x 7 columns]"
      ]
     },
     "execution_count": 182,
     "metadata": {},
     "output_type": "execute_result"
    }
   ],
   "source": [
    "df"
   ]
  },
  {
   "cell_type": "code",
   "execution_count": 183,
   "id": "72a36126-a59a-4908-8c1d-2b102f72a61e",
   "metadata": {},
   "outputs": [],
   "source": [
    "df.columns = df.columns.str.lower()"
   ]
  },
  {
   "cell_type": "code",
   "execution_count": 184,
   "id": "1d5b78ff-689e-4416-b988-e6c8af0fbaa2",
   "metadata": {},
   "outputs": [
    {
     "data": {
      "text/plain": [
       "Index(['station', 'name', 'prcp', 'snow', 'snwd', 'tmax', 'tmin'], dtype='object')"
      ]
     },
     "execution_count": 184,
     "metadata": {},
     "output_type": "execute_result"
    }
   ],
   "source": [
    "df.columns"
   ]
  },
  {
   "cell_type": "code",
   "execution_count": 185,
   "id": "391e1a12-94db-425a-b186-437857ffe7ec",
   "metadata": {},
   "outputs": [],
   "source": [
    "df = df.ffill()"
   ]
  },
  {
   "cell_type": "code",
   "execution_count": 186,
   "id": "fe788293-cd7a-4c6d-b7b5-1f7dba574031",
   "metadata": {},
   "outputs": [
    {
     "data": {
      "text/plain": [
       "station    0\n",
       "name       0\n",
       "prcp       0\n",
       "snow       0\n",
       "snwd       0\n",
       "tmax       0\n",
       "tmin       0\n",
       "dtype: int64"
      ]
     },
     "execution_count": 186,
     "metadata": {},
     "output_type": "execute_result"
    }
   ],
   "source": [
    "df.isnull().sum()"
   ]
  },
  {
   "cell_type": "code",
   "execution_count": 187,
   "id": "e7126027-fa61-4267-bcbe-6ef4c387638e",
   "metadata": {},
   "outputs": [],
   "source": [
    "# df = pd.get_dummies(df)"
   ]
  },
  {
   "cell_type": "code",
   "execution_count": 188,
   "id": "2f70a37f-56a5-47ad-b25d-e48d513b8ba4",
   "metadata": {},
   "outputs": [
    {
     "data": {
      "text/html": [
       "<div>\n",
       "<style scoped>\n",
       "    .dataframe tbody tr th:only-of-type {\n",
       "        vertical-align: middle;\n",
       "    }\n",
       "\n",
       "    .dataframe tbody tr th {\n",
       "        vertical-align: top;\n",
       "    }\n",
       "\n",
       "    .dataframe thead th {\n",
       "        text-align: right;\n",
       "    }\n",
       "</style>\n",
       "<table border=\"1\" class=\"dataframe\">\n",
       "  <thead>\n",
       "    <tr style=\"text-align: right;\">\n",
       "      <th></th>\n",
       "      <th>station</th>\n",
       "      <th>name</th>\n",
       "      <th>prcp</th>\n",
       "      <th>snow</th>\n",
       "      <th>snwd</th>\n",
       "      <th>tmax</th>\n",
       "      <th>tmin</th>\n",
       "    </tr>\n",
       "    <tr>\n",
       "      <th>DATE</th>\n",
       "      <th></th>\n",
       "      <th></th>\n",
       "      <th></th>\n",
       "      <th></th>\n",
       "      <th></th>\n",
       "      <th></th>\n",
       "      <th></th>\n",
       "    </tr>\n",
       "  </thead>\n",
       "  <tbody>\n",
       "    <tr>\n",
       "      <th>1970-01-01</th>\n",
       "      <td>USW00094789</td>\n",
       "      <td>JFK INTERNATIONAL AIRPORT, NY US</td>\n",
       "      <td>0.00</td>\n",
       "      <td>0.0</td>\n",
       "      <td>0.0</td>\n",
       "      <td>28.0</td>\n",
       "      <td>22.0</td>\n",
       "    </tr>\n",
       "    <tr>\n",
       "      <th>1970-01-02</th>\n",
       "      <td>USW00094789</td>\n",
       "      <td>JFK INTERNATIONAL AIRPORT, NY US</td>\n",
       "      <td>0.00</td>\n",
       "      <td>0.0</td>\n",
       "      <td>0.0</td>\n",
       "      <td>31.0</td>\n",
       "      <td>22.0</td>\n",
       "    </tr>\n",
       "    <tr>\n",
       "      <th>1970-01-03</th>\n",
       "      <td>USW00094789</td>\n",
       "      <td>JFK INTERNATIONAL AIRPORT, NY US</td>\n",
       "      <td>0.02</td>\n",
       "      <td>0.0</td>\n",
       "      <td>0.0</td>\n",
       "      <td>38.0</td>\n",
       "      <td>25.0</td>\n",
       "    </tr>\n",
       "    <tr>\n",
       "      <th>1970-01-04</th>\n",
       "      <td>USW00094789</td>\n",
       "      <td>JFK INTERNATIONAL AIRPORT, NY US</td>\n",
       "      <td>0.00</td>\n",
       "      <td>0.0</td>\n",
       "      <td>0.0</td>\n",
       "      <td>31.0</td>\n",
       "      <td>23.0</td>\n",
       "    </tr>\n",
       "    <tr>\n",
       "      <th>1970-01-05</th>\n",
       "      <td>USW00094789</td>\n",
       "      <td>JFK INTERNATIONAL AIRPORT, NY US</td>\n",
       "      <td>0.00</td>\n",
       "      <td>0.0</td>\n",
       "      <td>0.0</td>\n",
       "      <td>35.0</td>\n",
       "      <td>21.0</td>\n",
       "    </tr>\n",
       "  </tbody>\n",
       "</table>\n",
       "</div>"
      ],
      "text/plain": [
       "                station                              name  prcp  snow  snwd  \\\n",
       "DATE                                                                          \n",
       "1970-01-01  USW00094789  JFK INTERNATIONAL AIRPORT, NY US  0.00   0.0   0.0   \n",
       "1970-01-02  USW00094789  JFK INTERNATIONAL AIRPORT, NY US  0.00   0.0   0.0   \n",
       "1970-01-03  USW00094789  JFK INTERNATIONAL AIRPORT, NY US  0.02   0.0   0.0   \n",
       "1970-01-04  USW00094789  JFK INTERNATIONAL AIRPORT, NY US  0.00   0.0   0.0   \n",
       "1970-01-05  USW00094789  JFK INTERNATIONAL AIRPORT, NY US  0.00   0.0   0.0   \n",
       "\n",
       "            tmax  tmin  \n",
       "DATE                    \n",
       "1970-01-01  28.0  22.0  \n",
       "1970-01-02  31.0  22.0  \n",
       "1970-01-03  38.0  25.0  \n",
       "1970-01-04  31.0  23.0  \n",
       "1970-01-05  35.0  21.0  "
      ]
     },
     "execution_count": 188,
     "metadata": {},
     "output_type": "execute_result"
    }
   ],
   "source": [
    "df.head()"
   ]
  },
  {
   "cell_type": "code",
   "execution_count": 189,
   "id": "3d80c036-ea4f-496e-a96a-746c00c9f8d0",
   "metadata": {},
   "outputs": [
    {
     "data": {
      "text/plain": [
       "Index(['1970-01-01', '1970-01-02', '1970-01-03', '1970-01-04', '1970-01-05',\n",
       "       '1970-01-06', '1970-01-07', '1970-01-08', '1970-01-09', '1970-01-10',\n",
       "       ...\n",
       "       '2024-09-10', '2024-09-11', '2024-09-12', '2024-09-13', '2024-09-14',\n",
       "       '2024-09-15', '2024-09-16', '2024-09-17', '2024-09-18', '2024-09-19'],\n",
       "      dtype='object', name='DATE', length=19986)"
      ]
     },
     "execution_count": 189,
     "metadata": {},
     "output_type": "execute_result"
    }
   ],
   "source": [
    "df.index"
   ]
  },
  {
   "cell_type": "code",
   "execution_count": 190,
   "id": "e6dbfd5e-dbff-4851-95dd-78355390b648",
   "metadata": {},
   "outputs": [],
   "source": [
    "df.index = pd.to_datetime(df.index)"
   ]
  },
  {
   "cell_type": "code",
   "execution_count": 191,
   "id": "a87570ea-58f8-4ab0-b10c-d7e1b6c87a34",
   "metadata": {},
   "outputs": [
    {
     "data": {
      "text/plain": [
       "DatetimeIndex(['1970-01-01', '1970-01-02', '1970-01-03', '1970-01-04',\n",
       "               '1970-01-05', '1970-01-06', '1970-01-07', '1970-01-08',\n",
       "               '1970-01-09', '1970-01-10',\n",
       "               ...\n",
       "               '2024-09-10', '2024-09-11', '2024-09-12', '2024-09-13',\n",
       "               '2024-09-14', '2024-09-15', '2024-09-16', '2024-09-17',\n",
       "               '2024-09-18', '2024-09-19'],\n",
       "              dtype='datetime64[ns]', name='DATE', length=19986, freq=None)"
      ]
     },
     "execution_count": 191,
     "metadata": {},
     "output_type": "execute_result"
    }
   ],
   "source": [
    "df.index"
   ]
  },
  {
   "cell_type": "code",
   "execution_count": 192,
   "id": "52993a61-7515-47e9-b6bc-22134dac193d",
   "metadata": {},
   "outputs": [
    {
     "data": {
      "text/plain": [
       "DATE\n",
       "1970    365\n",
       "1971    365\n",
       "1972    366\n",
       "1973    365\n",
       "1974    365\n",
       "1975    365\n",
       "1976    366\n",
       "1977    365\n",
       "1978    365\n",
       "1979    365\n",
       "1980    366\n",
       "1981    365\n",
       "1982    365\n",
       "1983    365\n",
       "1984    366\n",
       "1985    365\n",
       "1986    365\n",
       "1987    365\n",
       "1988    366\n",
       "1989    365\n",
       "1990    365\n",
       "1991    365\n",
       "1992    366\n",
       "1993    365\n",
       "1994    365\n",
       "1995    365\n",
       "1996    366\n",
       "1997    365\n",
       "1998    365\n",
       "1999    365\n",
       "2000    366\n",
       "2001    365\n",
       "2002    365\n",
       "2003    365\n",
       "2004    366\n",
       "2005    365\n",
       "2006    365\n",
       "2007    365\n",
       "2008    366\n",
       "2009    365\n",
       "2010    365\n",
       "2011    365\n",
       "2012    366\n",
       "2013    365\n",
       "2014    365\n",
       "2015    365\n",
       "2016    366\n",
       "2017    365\n",
       "2018    365\n",
       "2019    365\n",
       "2020    366\n",
       "2021    365\n",
       "2022    365\n",
       "2023    365\n",
       "2024    263\n",
       "Name: count, dtype: int64"
      ]
     },
     "execution_count": 192,
     "metadata": {},
     "output_type": "execute_result"
    }
   ],
   "source": [
    " df.index.year.value_counts().sort_index()"
   ]
  },
  {
   "cell_type": "code",
   "execution_count": 193,
   "id": "512734a2-43de-4357-97f3-6fb086cfa24d",
   "metadata": {},
   "outputs": [
    {
     "data": {
      "text/plain": [
       "<Axes: xlabel='DATE'>"
      ]
     },
     "execution_count": 193,
     "metadata": {},
     "output_type": "execute_result"
    },
    {
     "data": {
      "image/png": "[encoded data removed]",
      "text/plain": [
       "<Figure size 640x480 with 1 Axes>"
      ]
     },
     "metadata": {},
     "output_type": "display_data"
    }
   ],
   "source": [
    "df['snwd'].plot()"
   ]
  },
  {
   "cell_type": "code",
   "execution_count": 194,
   "id": "e8bd64e5-58fa-46fb-9b3f-34fc86a6bc9b",
   "metadata": {},
   "outputs": [],
   "source": [
    "df['target'] = df.shift(-1)['tmax']"
   ]
  },
  {
   "cell_type": "code",
   "execution_count": 195,
   "id": "78e79cdc-99f9-47a4-9cc9-3b0b9500c008",
   "metadata": {},
   "outputs": [
    {
     "data": {
      "text/html": [
       "<div>\n",
       "<style scoped>\n",
       "    .dataframe tbody tr th:only-of-type {\n",
       "        vertical-align: middle;\n",
       "    }\n",
       "\n",
       "    .dataframe tbody tr th {\n",
       "        vertical-align: top;\n",
       "    }\n",
       "\n",
       "    .dataframe thead th {\n",
       "        text-align: right;\n",
       "    }\n",
       "</style>\n",
       "<table border=\"1\" class=\"dataframe\">\n",
       "  <thead>\n",
       "    <tr style=\"text-align: right;\">\n",
       "      <th></th>\n",
       "      <th>station</th>\n",
       "      <th>name</th>\n",
       "      <th>prcp</th>\n",
       "      <th>snow</th>\n",
       "      <th>snwd</th>\n",
       "      <th>tmax</th>\n",
       "      <th>tmin</th>\n",
       "      <th>target</th>\n",
       "    </tr>\n",
       "    <tr>\n",
       "      <th>DATE</th>\n",
       "      <th></th>\n",
       "      <th></th>\n",
       "      <th></th>\n",
       "      <th></th>\n",
       "      <th></th>\n",
       "      <th></th>\n",
       "      <th></th>\n",
       "      <th></th>\n",
       "    </tr>\n",
       "  </thead>\n",
       "  <tbody>\n",
       "    <tr>\n",
       "      <th>2024-09-15</th>\n",
       "      <td>USW00094789</td>\n",
       "      <td>JFK INTERNATIONAL AIRPORT, NY US</td>\n",
       "      <td>0.0</td>\n",
       "      <td>0.0</td>\n",
       "      <td>0.0</td>\n",
       "      <td>81.0</td>\n",
       "      <td>60.0</td>\n",
       "      <td>78.0</td>\n",
       "    </tr>\n",
       "    <tr>\n",
       "      <th>2024-09-16</th>\n",
       "      <td>USW00094789</td>\n",
       "      <td>JFK INTERNATIONAL AIRPORT, NY US</td>\n",
       "      <td>0.0</td>\n",
       "      <td>0.0</td>\n",
       "      <td>0.0</td>\n",
       "      <td>78.0</td>\n",
       "      <td>58.0</td>\n",
       "      <td>81.0</td>\n",
       "    </tr>\n",
       "    <tr>\n",
       "      <th>2024-09-17</th>\n",
       "      <td>USW00094789</td>\n",
       "      <td>JFK INTERNATIONAL AIRPORT, NY US</td>\n",
       "      <td>0.0</td>\n",
       "      <td>0.0</td>\n",
       "      <td>0.0</td>\n",
       "      <td>81.0</td>\n",
       "      <td>65.0</td>\n",
       "      <td>80.0</td>\n",
       "    </tr>\n",
       "    <tr>\n",
       "      <th>2024-09-18</th>\n",
       "      <td>USW00094789</td>\n",
       "      <td>JFK INTERNATIONAL AIRPORT, NY US</td>\n",
       "      <td>0.0</td>\n",
       "      <td>0.0</td>\n",
       "      <td>0.0</td>\n",
       "      <td>80.0</td>\n",
       "      <td>67.0</td>\n",
       "      <td>80.0</td>\n",
       "    </tr>\n",
       "    <tr>\n",
       "      <th>2024-09-19</th>\n",
       "      <td>USW00094789</td>\n",
       "      <td>JFK INTERNATIONAL AIRPORT, NY US</td>\n",
       "      <td>0.0</td>\n",
       "      <td>0.0</td>\n",
       "      <td>0.0</td>\n",
       "      <td>80.0</td>\n",
       "      <td>67.0</td>\n",
       "      <td>NaN</td>\n",
       "    </tr>\n",
       "  </tbody>\n",
       "</table>\n",
       "</div>"
      ],
      "text/plain": [
       "                station                              name  prcp  snow  snwd  \\\n",
       "DATE                                                                          \n",
       "2024-09-15  USW00094789  JFK INTERNATIONAL AIRPORT, NY US   0.0   0.0   0.0   \n",
       "2024-09-16  USW00094789  JFK INTERNATIONAL AIRPORT, NY US   0.0   0.0   0.0   \n",
       "2024-09-17  USW00094789  JFK INTERNATIONAL AIRPORT, NY US   0.0   0.0   0.0   \n",
       "2024-09-18  USW00094789  JFK INTERNATIONAL AIRPORT, NY US   0.0   0.0   0.0   \n",
       "2024-09-19  USW00094789  JFK INTERNATIONAL AIRPORT, NY US   0.0   0.0   0.0   \n",
       "\n",
       "            tmax  tmin  target  \n",
       "DATE                            \n",
       "2024-09-15  81.0  60.0    78.0  \n",
       "2024-09-16  78.0  58.0    81.0  \n",
       "2024-09-17  81.0  65.0    80.0  \n",
       "2024-09-18  80.0  67.0    80.0  \n",
       "2024-09-19  80.0  67.0     NaN  "
      ]
     },
     "execution_count": 195,
     "metadata": {},
     "output_type": "execute_result"
    }
   ],
   "source": [
    "df.tail()"
   ]
  },
  {
   "cell_type": "code",
   "execution_count": 196,
   "id": "e2a99788-b3a2-475c-8d6e-74db31ad4e30",
   "metadata": {},
   "outputs": [],
   "source": [
    "df = df.ffill()"
   ]
  },
  {
   "cell_type": "code",
   "execution_count": 197,
   "id": "8002419b-d64d-46ac-b250-6b32bf4b7e85",
   "metadata": {},
   "outputs": [
    {
     "data": {
      "text/html": [
       "<div>\n",
       "<style scoped>\n",
       "    .dataframe tbody tr th:only-of-type {\n",
       "        vertical-align: middle;\n",
       "    }\n",
       "\n",
       "    .dataframe tbody tr th {\n",
       "        vertical-align: top;\n",
       "    }\n",
       "\n",
       "    .dataframe thead th {\n",
       "        text-align: right;\n",
       "    }\n",
       "</style>\n",
       "<table border=\"1\" class=\"dataframe\">\n",
       "  <thead>\n",
       "    <tr style=\"text-align: right;\">\n",
       "      <th></th>\n",
       "      <th>station</th>\n",
       "      <th>name</th>\n",
       "      <th>prcp</th>\n",
       "      <th>snow</th>\n",
       "      <th>snwd</th>\n",
       "      <th>tmax</th>\n",
       "      <th>tmin</th>\n",
       "      <th>target</th>\n",
       "    </tr>\n",
       "    <tr>\n",
       "      <th>DATE</th>\n",
       "      <th></th>\n",
       "      <th></th>\n",
       "      <th></th>\n",
       "      <th></th>\n",
       "      <th></th>\n",
       "      <th></th>\n",
       "      <th></th>\n",
       "      <th></th>\n",
       "    </tr>\n",
       "  </thead>\n",
       "  <tbody>\n",
       "    <tr>\n",
       "      <th>2024-09-15</th>\n",
       "      <td>USW00094789</td>\n",
       "      <td>JFK INTERNATIONAL AIRPORT, NY US</td>\n",
       "      <td>0.0</td>\n",
       "      <td>0.0</td>\n",
       "      <td>0.0</td>\n",
       "      <td>81.0</td>\n",
       "      <td>60.0</td>\n",
       "      <td>78.0</td>\n",
       "    </tr>\n",
       "    <tr>\n",
       "      <th>2024-09-16</th>\n",
       "      <td>USW00094789</td>\n",
       "      <td>JFK INTERNATIONAL AIRPORT, NY US</td>\n",
       "      <td>0.0</td>\n",
       "      <td>0.0</td>\n",
       "      <td>0.0</td>\n",
       "      <td>78.0</td>\n",
       "      <td>58.0</td>\n",
       "      <td>81.0</td>\n",
       "    </tr>\n",
       "    <tr>\n",
       "      <th>2024-09-17</th>\n",
       "      <td>USW00094789</td>\n",
       "      <td>JFK INTERNATIONAL AIRPORT, NY US</td>\n",
       "      <td>0.0</td>\n",
       "      <td>0.0</td>\n",
       "      <td>0.0</td>\n",
       "      <td>81.0</td>\n",
       "      <td>65.0</td>\n",
       "      <td>80.0</td>\n",
       "    </tr>\n",
       "    <tr>\n",
       "      <th>2024-09-18</th>\n",
       "      <td>USW00094789</td>\n",
       "      <td>JFK INTERNATIONAL AIRPORT, NY US</td>\n",
       "      <td>0.0</td>\n",
       "      <td>0.0</td>\n",
       "      <td>0.0</td>\n",
       "      <td>80.0</td>\n",
       "      <td>67.0</td>\n",
       "      <td>80.0</td>\n",
       "    </tr>\n",
       "    <tr>\n",
       "      <th>2024-09-19</th>\n",
       "      <td>USW00094789</td>\n",
       "      <td>JFK INTERNATIONAL AIRPORT, NY US</td>\n",
       "      <td>0.0</td>\n",
       "      <td>0.0</td>\n",
       "      <td>0.0</td>\n",
       "      <td>80.0</td>\n",
       "      <td>67.0</td>\n",
       "      <td>80.0</td>\n",
       "    </tr>\n",
       "  </tbody>\n",
       "</table>\n",
       "</div>"
      ],
      "text/plain": [
       "                station                              name  prcp  snow  snwd  \\\n",
       "DATE                                                                          \n",
       "2024-09-15  USW00094789  JFK INTERNATIONAL AIRPORT, NY US   0.0   0.0   0.0   \n",
       "2024-09-16  USW00094789  JFK INTERNATIONAL AIRPORT, NY US   0.0   0.0   0.0   \n",
       "2024-09-17  USW00094789  JFK INTERNATIONAL AIRPORT, NY US   0.0   0.0   0.0   \n",
       "2024-09-18  USW00094789  JFK INTERNATIONAL AIRPORT, NY US   0.0   0.0   0.0   \n",
       "2024-09-19  USW00094789  JFK INTERNATIONAL AIRPORT, NY US   0.0   0.0   0.0   \n",
       "\n",
       "            tmax  tmin  target  \n",
       "DATE                            \n",
       "2024-09-15  81.0  60.0    78.0  \n",
       "2024-09-16  78.0  58.0    81.0  \n",
       "2024-09-17  81.0  65.0    80.0  \n",
       "2024-09-18  80.0  67.0    80.0  \n",
       "2024-09-19  80.0  67.0    80.0  "
      ]
     },
     "execution_count": 197,
     "metadata": {},
     "output_type": "execute_result"
    }
   ],
   "source": [
    "df.tail()"
   ]
  },
  {
   "cell_type": "code",
   "execution_count": 199,
   "id": "f55fca28-20f1-43be-be0b-5ff6e71676de",
   "metadata": {},
   "outputs": [],
   "source": [
    "from sklearn.linear_model import Ridge\n",
    "rr =Ridge(alpha=.1)"
   ]
  },
  {
   "cell_type": "code",
   "execution_count": 200,
   "id": "d9b649b1-139c-4198-82a6-03fef379943c",
   "metadata": {},
   "outputs": [
    {
     "data": {
      "text/plain": [
       "station    0\n",
       "name       0\n",
       "prcp       0\n",
       "snow       0\n",
       "snwd       0\n",
       "tmax       0\n",
       "tmin       0\n",
       "target     0\n",
       "dtype: int64"
      ]
     },
     "execution_count": 200,
     "metadata": {},
     "output_type": "execute_result"
    }
   ],
   "source": [
    "df.isnull().sum()"
   ]
  },
  {
   "cell_type": "code",
   "execution_count": 205,
   "id": "c48080fd-7cf3-40c6-b52b-64ef6bd7ceaa",
   "metadata": {},
   "outputs": [
    {
     "data": {
      "text/plain": [
       "array([465, 445, 444, 439, 434, 429, 427, 418, 416, 413, 412, 410, 408,\n",
       "       408, 405, 404, 403, 402, 391, 389, 386, 382, 377, 375, 375, 372,\n",
       "       367, 360, 349, 347, 344, 341, 339, 336, 332, 331, 329, 319, 317,\n",
       "       305, 305, 304, 297, 293, 288, 283, 239, 228, 226, 204, 203, 178,\n",
       "       172, 155, 143, 125, 124, 117,  95,  87,  75,  74,  70,  48,  42,\n",
       "        39,  32,  27,  26,  24,  24,  15,  13,  13,  10,   9,   9,   7,\n",
       "         6,   3,   2,   2,   2,   2,   1], dtype=int64)"
      ]
     },
     "execution_count": 205,
     "metadata": {},
     "output_type": "execute_result"
    }
   ],
   "source": []
  },
  {
   "cell_type": "code",
   "execution_count": null,
   "id": "526ee2ce-c3c5-4347-b4e2-b4c7044f956b",
   "metadata": {},
   "outputs": [],
   "source": []
  },
  {
   "cell_type": "code",
   "execution_count": null,
   "id": "6fc3784e-c2e7-45f7-a685-dbc3a8da27af",
   "metadata": {},
   "outputs": [],
   "source": []
  },
  {
   "cell_type": "code",
   "execution_count": null,
   "id": "4076ed09-504b-443c-9bc2-0b5d0617c803",
   "metadata": {},
   "outputs": [],
   "source": []
  },
  {
   "cell_type": "code",
   "execution_count": null,
   "id": "f1d37215-30f7-4c39-bc6f-ed15fc02fda3",
   "metadata": {},
   "outputs": [],
   "source": []
  },
  {
   "cell_type": "code",
   "execution_count": null,
   "id": "4fcb9092-1860-468a-b826-760edc4c4913",
   "metadata": {},
   "outputs": [],
   "source": []
  },
  {
   "cell_type": "code",
   "execution_count": null,
   "id": "eaaa9ee0-78eb-4ced-8fa2-4df9c0a92183",
   "metadata": {},
   "outputs": [],
   "source": []
  },
  {
   "cell_type": "code",
   "execution_count": null,
   "id": "f559b559-4aed-45d0-aeca-f3018aa10043",
   "metadata": {},
   "outputs": [],
   "source": []
  },
  {
   "cell_type": "code",
   "execution_count": null,
   "id": "30a66e25-ff1c-4887-a3e7-40835200f64b",
   "metadata": {},
   "outputs": [],
   "source": []
  },
  {
   "cell_type": "code",
   "execution_count": null,
   "id": "a50babf0-a028-4d6b-9baf-135ffd789d46",
   "metadata": {},
   "outputs": [],
   "source": []
  },
  {
   "cell_type": "code",
   "execution_count": null,
   "id": "5a2923fa-b528-46a5-8340-0c9e1153d5bb",
   "metadata": {},
   "outputs": [],
   "source": []
  },
  {
   "cell_type": "code",
   "execution_count": null,
   "id": "d4f33a3e-83a9-45e7-a483-e22ff736aa2a",
   "metadata": {},
   "outputs": [],
   "source": []
  },
  {
   "cell_type": "code",
   "execution_count": null,
   "id": "9885e220-3c68-4bc3-974c-ac1b89bfb1ae",
   "metadata": {},
   "outputs": [],
   "source": []
  },
  {
   "cell_type": "code",
   "execution_count": null,
   "id": "01b3c022-4367-42c8-bf97-f96dec87dcef",
   "metadata": {},
   "outputs": [],
   "source": []
  },
  {
   "cell_type": "code",
   "execution_count": null,
   "id": "db8b6fb8-1796-4f46-a38d-57f76b275ac1",
   "metadata": {},
   "outputs": [],
   "source": []
  },
  {
   "cell_type": "code",
   "execution_count": null,
   "id": "50b8ec63-5864-441c-a3a3-3556000e79fb",
   "metadata": {},
   "outputs": [],
   "source": []
  },
  {
   "cell_type": "code",
   "execution_count": null,
   "id": "1cb54b35-772f-4119-ba09-2e9018e29fad",
   "metadata": {},
   "outputs": [],
   "source": []
  }
 ],
 "metadata": {
  "kernelspec": {
   "display_name": "Python 3 (ipykernel)",
   "language": "python",
   "name": "python3"
  },
  "language_info": {
   "codemirror_mode": {
    "name": "ipython",
    "version": 3
   },
   "file_extension": ".py",
   "mimetype": "text/x-python",
   "name": "python",
   "nbconvert_exporter": "python",
   "pygments_lexer": "ipython3",
   "version": "3.11.4"
  }
 },
 "nbformat": 4,
 "nbformat_minor": 5
}
