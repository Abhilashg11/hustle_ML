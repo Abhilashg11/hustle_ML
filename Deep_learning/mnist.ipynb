{
 "cells": [
  {
   "cell_type": "code",
   "execution_count": 23,
   "metadata": {},
   "outputs": [],
   "source": [
    "import tensorflow as tf \n",
    "from tensorflow import keras\n",
    "import matplotlib.pyplot as plt\n",
    "import numpy as np\n"
   ]
  },
  {
   "cell_type": "code",
   "execution_count": 24,
   "metadata": {},
   "outputs": [],
   "source": [
    "from keras.datasets import  mnist"
   ]
  },
  {
   "cell_type": "code",
   "execution_count": 25,
   "metadata": {},
   "outputs": [],
   "source": [
    "(x_train,y_train) ,( x_test,y_test) = mnist.load_data()"
   ]
  },
  {
   "cell_type": "code",
   "execution_count": 26,
   "metadata": {},
   "outputs": [
    {
     "data": {
      "text/plain": [
       "60000"
      ]
     },
     "execution_count": 26,
     "metadata": {},
     "output_type": "execute_result"
    }
   ],
   "source": [
    "len(x_train)"
   ]
  },
  {
   "cell_type": "code",
   "execution_count": 35,
   "metadata": {},
   "outputs": [],
   "source": [
    "x_train = x_train/255\n",
    "x_test = x_test/255"
   ]
  },
  {
   "cell_type": "code",
   "execution_count": 36,
   "metadata": {},
   "outputs": [
    {
     "data": {
      "text/plain": [
       "(60000, 28, 28)"
      ]
     },
     "execution_count": 36,
     "metadata": {},
     "output_type": "execute_result"
    }
   ],
   "source": [
    "x_train.shape"
   ]
  },
  {
   "cell_type": "code",
   "execution_count": 37,
   "metadata": {},
   "outputs": [
    {
     "data": {
      "text/plain": [
       "<matplotlib.image.AxesImage at 0x214ebeddd10>"
      ]
     },
     "execution_count": 37,
     "metadata": {},
     "output_type": "execute_result"
    },
    {
     "data": {
      "image/png": "[encoded data removed]",
      "text/plain": [
       "<Figure size 480x480 with 1 Axes>"
      ]
     },
     "metadata": {},
     "output_type": "display_data"
    }
   ],
   "source": [
    "plt.matshow(x_train[0])"
   ]
  },
  {
   "cell_type": "code",
   "execution_count": 38,
   "metadata": {},
   "outputs": [
    {
     "data": {
      "text/plain": [
       "dtype('uint8')"
      ]
     },
     "execution_count": 38,
     "metadata": {},
     "output_type": "execute_result"
    }
   ],
   "source": [
    "y_test.dtype"
   ]
  },
  {
   "cell_type": "code",
   "execution_count": 39,
   "metadata": {},
   "outputs": [],
   "source": [
    "x_train_flattened = x_train.reshape(len(x_train),28*28)\n",
    "x_test_flattened = x_test.reshape(len(x_test),28*28)"
   ]
  },
  {
   "cell_type": "code",
   "execution_count": 41,
   "metadata": {},
   "outputs": [
    {
     "name": "stdout",
     "output_type": "stream",
     "text": [
      "WARNING:tensorflow:From d:\\Class\\Lib\\site-packages\\keras\\src\\optimizers\\__init__.py:309: The name tf.train.Optimizer is deprecated. Please use tf.compat.v1.train.Optimizer instead.\n",
      "\n",
      "Epoch 1/5\n",
      "WARNING:tensorflow:From d:\\Class\\Lib\\site-packages\\keras\\src\\utils\\tf_utils.py:492: The name tf.ragged.RaggedTensorValue is deprecated. Please use tf.compat.v1.ragged.RaggedTensorValue instead.\n",
      "\n",
      "WARNING:tensorflow:From d:\\Class\\Lib\\site-packages\\keras\\src\\engine\\base_layer_utils.py:384: The name tf.executing_eagerly_outside_functions is deprecated. Please use tf.compat.v1.executing_eagerly_outside_functions instead.\n",
      "\n",
      "1875/1875 [==============================] - 6s 1ms/step - loss: 2.1885 - accuracy: 0.6029\n",
      "Epoch 2/5\n",
      "1875/1875 [==============================] - 2s 1ms/step - loss: 1.9781 - accuracy: 0.7021\n",
      "Epoch 3/5\n",
      "1875/1875 [==============================] - 2s 1ms/step - loss: 1.7920 - accuracy: 0.7414\n",
      "Epoch 4/5\n",
      "1875/1875 [==============================] - 2s 1ms/step - loss: 1.6286 - accuracy: 0.7590\n",
      "Epoch 5/5\n",
      "1875/1875 [==============================] - 2s 1ms/step - loss: 1.4860 - accuracy: 0.7765\n"
     ]
    },
    {
     "data": {
      "text/plain": [
       "<keras.src.callbacks.History at 0x214d1562fd0>"
      ]
     },
     "execution_count": 41,
     "metadata": {},
     "output_type": "execute_result"
    }
   ],
   "source": [
    "model = keras.Sequential([\n",
    "    keras.layers.Dense(10,input_shape=(784,),activation='sigmoid')\n",
    "])\n",
    "\n",
    "model.compile(optimizer='adam',\n",
    "loss=\"sparse_categorical_crossentropy\",\n",
    "metrics=['accuracy']\n",
    "            )\n",
    "model.fit(x_train_flattened,y_train,epochs=5)"
   ]
  },
  {
   "cell_type": "code",
   "execution_count": 45,
   "metadata": {},
   "outputs": [
    {
     "name": "stdout",
     "output_type": "stream",
     "text": [
      "313/313 - 0s - loss: 1.4064 - accuracy: 0.8013 - 248ms/epoch - 791us/step\n"
     ]
    },
    {
     "data": {
      "text/plain": [
       "[1.4064111709594727, 0.8012999892234802]"
      ]
     },
     "execution_count": 45,
     "metadata": {},
     "output_type": "execute_result"
    }
   ],
   "source": [
    "model.evaluate(x_test_flattened,y_test,verbose=2)"
   ]
  },
  {
   "cell_type": "code",
   "execution_count": 47,
   "metadata": {},
   "outputs": [
    {
     "name": "stdout",
     "output_type": "stream",
     "text": [
      "313/313 [==============================] - 0s 781us/step\n"
     ]
    }
   ],
   "source": [
    "y_predict = model.predict(x_test_flattened)"
   ]
  },
  {
   "cell_type": "code",
   "execution_count": 48,
   "metadata": {},
   "outputs": [
    {
     "data": {
      "text/plain": [
       "array([0.38499027, 0.41020814, 0.61412454, 0.55492723, 0.18508194,\n",
       "       0.43914667, 0.54151535, 0.15414006, 0.3970836 , 0.17967783],\n",
       "      dtype=float32)"
      ]
     },
     "execution_count": 48,
     "metadata": {},
     "output_type": "execute_result"
    }
   ],
   "source": [
    "y_predict[1]"
   ]
  },
  {
   "cell_type": "code",
   "execution_count": 53,
   "metadata": {},
   "outputs": [
    {
     "data": {
      "text/plain": [
       "3"
      ]
     },
     "execution_count": 53,
     "metadata": {},
     "output_type": "execute_result"
    }
   ],
   "source": [
    "np.argmax(r)"
   ]
  },
  {
   "cell_type": "code",
   "execution_count": 52,
   "metadata": {},
   "outputs": [],
   "source": [
    "r = [2,4,5,666]"
   ]
  },
  {
   "cell_type": "code",
   "execution_count": 54,
   "metadata": {},
   "outputs": [
    {
     "name": "stdout",
     "output_type": "stream",
     "text": [
      "Collecting psycopg2\n",
      "  Downloading psycopg2-2.9.10-cp311-cp311-win_amd64.whl (1.2 MB)\n",
      "                                              0.0/1.2 MB ? eta -:--:--\n",
      "                                              0.0/1.2 MB ? eta -:--:--\n",
      "                                              0.0/1.2 MB ? eta -:--:--\n",
      "                                              0.0/1.2 MB ? eta -:--:--\n",
      "                                              0.0/1.2 MB ? eta -:--:--\n",
      "                                              0.0/1.2 MB ? eta -:--:--\n",
      "                                              0.0/1.2 MB ? eta -:--:--\n",
      "                                              0.0/1.2 MB ? eta -:--:--\n",
      "                                              0.0/1.2 MB ? eta -:--:--\n",
      "                                              0.0/1.2 MB ? eta -:--:--\n",
      "                                              0.0/1.2 MB ? eta -:--:--\n",
      "                                              0.0/1.2 MB ? eta -:--:--\n",
      "                                              0.0/1.2 MB ? eta -:--:--\n",
      "                                              0.0/1.2 MB ? eta -:--:--\n",
      "                                              0.0/1.2 MB ? eta -:--:--\n",
      "                                              0.0/1.2 MB ? eta -:--:--\n",
      "                                              0.0/1.2 MB ? eta -:--:--\n",
      "                                              0.0/1.2 MB ? eta -:--:--\n",
      "                                              0.0/1.2 MB ? eta -:--:--\n",
      "                                              0.0/1.2 MB ? eta -:--:--\n",
      "                                              0.0/1.2 MB ? eta -:--:--\n",
      "                                              0.0/1.2 MB ? eta -:--:--\n",
      "                                              0.0/1.2 MB ? eta -:--:--\n",
      "                                              0.0/1.2 MB ? eta -:--:--\n",
      "                                              0.0/1.2 MB ? eta -:--:--\n",
      "                                              0.0/1.2 MB ? eta -:--:--\n",
      "                                              0.0/1.2 MB ? eta -:--:--\n",
      "                                              0.0/1.2 MB ? eta -:--:--\n",
      "     -                                        0.0/1.2 MB 35.4 kB/s eta 0:00:32\n",
      "     -                                        0.0/1.2 MB 35.4 kB/s eta 0:00:32\n",
      "     -                                        0.0/1.2 MB 35.4 kB/s eta 0:00:32\n",
      "     --                                       0.1/1.2 MB 74.5 kB/s eta 0:00:15\n",
      "     --                                       0.1/1.2 MB 74.5 kB/s eta 0:00:15\n",
      "     --                                       0.1/1.2 MB 74.5 kB/s eta 0:00:15\n",
      "     --                                       0.1/1.2 MB 74.5 kB/s eta 0:00:15\n",
      "     --                                       0.1/1.2 MB 74.5 kB/s eta 0:00:15\n",
      "     --                                       0.1/1.2 MB 74.5 kB/s eta 0:00:15\n",
      "     --                                       0.1/1.2 MB 74.5 kB/s eta 0:00:15\n",
      "     --                                       0.1/1.2 MB 74.5 kB/s eta 0:00:15\n",
      "     --                                       0.1/1.2 MB 74.5 kB/s eta 0:00:15\n",
      "     --                                       0.1/1.2 MB 74.5 kB/s eta 0:00:15\n",
      "     --                                       0.1/1.2 MB 74.5 kB/s eta 0:00:15\n",
      "     --                                       0.1/1.2 MB 60.4 kB/s eta 0:00:18\n",
      "     --                                       0.1/1.2 MB 60.4 kB/s eta 0:00:18\n",
      "     --                                       0.1/1.2 MB 60.4 kB/s eta 0:00:18\n",
      "     --                                       0.1/1.2 MB 60.4 kB/s eta 0:00:18\n",
      "     --                                       0.1/1.2 MB 60.4 kB/s eta 0:00:18\n",
      "     ---                                      0.1/1.2 MB 58.3 kB/s eta 0:00:19\n",
      "     ---                                      0.1/1.2 MB 58.3 kB/s eta 0:00:19\n",
      "     ---                                      0.1/1.2 MB 58.3 kB/s eta 0:00:19\n",
      "     ---                                      0.1/1.2 MB 58.3 kB/s eta 0:00:19\n",
      "     ---                                      0.1/1.2 MB 58.3 kB/s eta 0:00:19\n",
      "     ---                                      0.1/1.2 MB 58.3 kB/s eta 0:00:19\n",
      "     ---                                      0.1/1.2 MB 58.3 kB/s eta 0:00:19\n",
      "     ---                                      0.1/1.2 MB 59.6 kB/s eta 0:00:18\n",
      "     ---                                      0.1/1.2 MB 59.6 kB/s eta 0:00:18\n",
      "     ---                                      0.1/1.2 MB 59.6 kB/s eta 0:00:18\n",
      "     ---                                      0.1/1.2 MB 59.6 kB/s eta 0:00:18\n",
      "     ----                                     0.1/1.2 MB 59.6 kB/s eta 0:00:18\n",
      "     ----                                     0.1/1.2 MB 59.6 kB/s eta 0:00:18\n",
      "     ----                                     0.1/1.2 MB 59.6 kB/s eta 0:00:18\n",
      "     ----                                     0.1/1.2 MB 59.6 kB/s eta 0:00:18\n",
      "     ----                                     0.1/1.2 MB 59.6 kB/s eta 0:00:18\n",
      "     ----                                     0.1/1.2 MB 59.6 kB/s eta 0:00:18\n",
      "     ----                                     0.1/1.2 MB 59.6 kB/s eta 0:00:18\n",
      "     ----                                     0.1/1.2 MB 62.2 kB/s eta 0:00:17\n",
      "     ----                                     0.1/1.2 MB 62.2 kB/s eta 0:00:17\n",
      "     ----                                     0.1/1.2 MB 62.2 kB/s eta 0:00:17\n",
      "     ----                                     0.1/1.2 MB 62.2 kB/s eta 0:00:17\n",
      "     ----                                     0.1/1.2 MB 62.2 kB/s eta 0:00:17\n",
      "     -----                                    0.2/1.2 MB 65.1 kB/s eta 0:00:16\n",
      "     -----                                    0.2/1.2 MB 65.1 kB/s eta 0:00:16\n",
      "     -----                                    0.2/1.2 MB 65.1 kB/s eta 0:00:16\n",
      "     -----                                    0.2/1.2 MB 65.1 kB/s eta 0:00:16\n",
      "     -----                                    0.2/1.2 MB 65.1 kB/s eta 0:00:16\n",
      "     -----                                    0.2/1.2 MB 62.8 kB/s eta 0:00:16\n",
      "     -----                                    0.2/1.2 MB 62.8 kB/s eta 0:00:16\n",
      "     -----                                    0.2/1.2 MB 62.8 kB/s eta 0:00:16\n",
      "     -----                                    0.2/1.2 MB 62.8 kB/s eta 0:00:16\n",
      "     -----                                    0.2/1.2 MB 62.8 kB/s eta 0:00:16\n",
      "     ------                                   0.2/1.2 MB 65.5 kB/s eta 0:00:15\n",
      "     ------                                   0.2/1.2 MB 65.5 kB/s eta 0:00:15\n",
      "     ------                                   0.2/1.2 MB 65.5 kB/s eta 0:00:15\n",
      "     ------                                   0.2/1.2 MB 65.5 kB/s eta 0:00:15\n",
      "     -------                                  0.2/1.2 MB 64.5 kB/s eta 0:00:15\n",
      "     -------                                  0.2/1.2 MB 64.5 kB/s eta 0:00:15\n",
      "     -------                                  0.2/1.2 MB 64.5 kB/s eta 0:00:15\n",
      "     -------                                  0.2/1.2 MB 64.5 kB/s eta 0:00:15\n",
      "     -------                                  0.2/1.2 MB 64.5 kB/s eta 0:00:15\n",
      "     -------                                  0.2/1.2 MB 66.2 kB/s eta 0:00:15\n",
      "     -------                                  0.2/1.2 MB 66.2 kB/s eta 0:00:15\n",
      "     -------                                  0.2/1.2 MB 66.2 kB/s eta 0:00:15\n",
      "     -------                                  0.2/1.2 MB 66.2 kB/s eta 0:00:15\n",
      "     --------                                 0.2/1.2 MB 68.8 kB/s eta 0:00:14\n",
      "     --------                                 0.2/1.2 MB 68.8 kB/s eta 0:00:14\n",
      "     --------                                 0.2/1.2 MB 68.8 kB/s eta 0:00:14\n",
      "     --------                                 0.2/1.2 MB 68.8 kB/s eta 0:00:14\n",
      "     --------                                 0.2/1.2 MB 68.8 kB/s eta 0:00:14\n",
      "     --------                                 0.3/1.2 MB 67.8 kB/s eta 0:00:14\n",
      "     --------                                 0.3/1.2 MB 67.8 kB/s eta 0:00:14\n",
      "     --------                                 0.3/1.2 MB 67.8 kB/s eta 0:00:14\n",
      "     --------                                 0.3/1.2 MB 67.8 kB/s eta 0:00:14\n",
      "     --------                                 0.3/1.2 MB 67.8 kB/s eta 0:00:14\n",
      "     --------                                 0.3/1.2 MB 67.8 kB/s eta 0:00:14\n",
      "     ---------                                0.3/1.2 MB 68.2 kB/s eta 0:00:14\n",
      "     ---------                                0.3/1.2 MB 68.2 kB/s eta 0:00:14\n",
      "     ---------                                0.3/1.2 MB 68.2 kB/s eta 0:00:14\n",
      "     ---------                                0.3/1.2 MB 68.1 kB/s eta 0:00:13\n",
      "     ---------                                0.3/1.2 MB 68.1 kB/s eta 0:00:13\n",
      "     ---------                                0.3/1.2 MB 68.1 kB/s eta 0:00:13\n",
      "     ---------                                0.3/1.2 MB 68.1 kB/s eta 0:00:13\n",
      "     ---------                                0.3/1.2 MB 68.1 kB/s eta 0:00:13\n",
      "     ----------                               0.3/1.2 MB 69.1 kB/s eta 0:00:13\n",
      "     ----------                               0.3/1.2 MB 69.1 kB/s eta 0:00:13\n",
      "     ----------                               0.3/1.2 MB 69.1 kB/s eta 0:00:13\n",
      "     -----------                              0.3/1.2 MB 72.3 kB/s eta 0:00:12\n",
      "     -----------                              0.3/1.2 MB 72.3 kB/s eta 0:00:12\n",
      "     -----------                              0.3/1.2 MB 72.3 kB/s eta 0:00:12\n",
      "     -----------                              0.3/1.2 MB 72.3 kB/s eta 0:00:12\n",
      "     -----------                              0.3/1.2 MB 71.6 kB/s eta 0:00:12\n",
      "     -----------                              0.3/1.2 MB 71.6 kB/s eta 0:00:12\n",
      "     -----------                              0.3/1.2 MB 71.6 kB/s eta 0:00:12\n",
      "     ------------                             0.4/1.2 MB 73.8 kB/s eta 0:00:11\n",
      "     ------------                             0.4/1.2 MB 73.8 kB/s eta 0:00:11\n",
      "     ------------                             0.4/1.2 MB 73.8 kB/s eta 0:00:11\n",
      "     ------------                             0.4/1.2 MB 73.8 kB/s eta 0:00:11\n",
      "     ------------                             0.4/1.2 MB 73.5 kB/s eta 0:00:11\n",
      "     ------------                             0.4/1.2 MB 73.5 kB/s eta 0:00:11\n",
      "     ------------                             0.4/1.2 MB 73.5 kB/s eta 0:00:11\n",
      "     -------------                            0.4/1.2 MB 75.1 kB/s eta 0:00:11\n",
      "     -------------                            0.4/1.2 MB 75.1 kB/s eta 0:00:11\n",
      "     -------------                            0.4/1.2 MB 75.1 kB/s eta 0:00:11\n",
      "     --------------                           0.4/1.2 MB 77.2 kB/s eta 0:00:10\n",
      "     --------------                           0.4/1.2 MB 77.2 kB/s eta 0:00:10\n",
      "     --------------                           0.4/1.2 MB 78.3 kB/s eta 0:00:10\n",
      "     ---------------                          0.5/1.2 MB 83.1 kB/s eta 0:00:09\n",
      "     ----------------                         0.5/1.2 MB 86.2 kB/s eta 0:00:09\n",
      "     ----------------                         0.5/1.2 MB 89.3 kB/s eta 0:00:08\n",
      "     -----------------                        0.5/1.2 MB 90.7 kB/s eta 0:00:08\n",
      "     -----------------                        0.5/1.2 MB 93.6 kB/s eta 0:00:07\n",
      "     -------------------                      0.6/1.2 MB 97.8 kB/s eta 0:00:07\n",
      "     -------------------                      0.6/1.2 MB 101.0 kB/s eta 0:00:06\n",
      "     --------------------                     0.6/1.2 MB 102.2 kB/s eta 0:00:06\n",
      "     ---------------------                    0.6/1.2 MB 106.2 kB/s eta 0:00:06\n",
      "     ---------------------                    0.6/1.2 MB 109.2 kB/s eta 0:00:05\n",
      "     ----------------------                   0.7/1.2 MB 111.9 kB/s eta 0:00:05\n",
      "     ----------------------                   0.7/1.2 MB 113.1 kB/s eta 0:00:05\n",
      "     -----------------------                  0.7/1.2 MB 116.0 kB/s eta 0:00:05\n",
      "     -----------------------                  0.7/1.2 MB 116.0 kB/s eta 0:00:05\n",
      "     -----------------------                  0.7/1.2 MB 115.9 kB/s eta 0:00:05\n",
      "     -----------------------                  0.7/1.2 MB 115.9 kB/s eta 0:00:05\n",
      "     ------------------------                 0.7/1.2 MB 117.8 kB/s eta 0:00:04\n",
      "     ------------------------                 0.7/1.2 MB 117.8 kB/s eta 0:00:04\n",
      "     -------------------------                0.7/1.2 MB 119.6 kB/s eta 0:00:04\n",
      "     -------------------------                0.7/1.2 MB 119.6 kB/s eta 0:00:04\n",
      "     -------------------------                0.7/1.2 MB 119.8 kB/s eta 0:00:04\n",
      "     -------------------------                0.7/1.2 MB 119.8 kB/s eta 0:00:04\n",
      "     --------------------------               0.8/1.2 MB 120.6 kB/s eta 0:00:04\n",
      "     --------------------------               0.8/1.2 MB 120.6 kB/s eta 0:00:04\n",
      "     --------------------------               0.8/1.2 MB 120.6 kB/s eta 0:00:04\n",
      "     --------------------------               0.8/1.2 MB 120.6 kB/s eta 0:00:04\n",
      "     --------------------------               0.8/1.2 MB 119.3 kB/s eta 0:00:04\n",
      "     --------------------------               0.8/1.2 MB 119.3 kB/s eta 0:00:04\n",
      "     ---------------------------              0.8/1.2 MB 118.6 kB/s eta 0:00:04\n",
      "     ---------------------------              0.8/1.2 MB 119.9 kB/s eta 0:00:04\n",
      "     ----------------------------             0.8/1.2 MB 122.1 kB/s eta 0:00:03\n",
      "     ----------------------------             0.8/1.2 MB 122.1 kB/s eta 0:00:03\n",
      "     ----------------------------             0.8/1.2 MB 122.1 kB/s eta 0:00:03\n",
      "     ----------------------------             0.8/1.2 MB 120.8 kB/s eta 0:00:03\n",
      "     ----------------------------             0.8/1.2 MB 120.8 kB/s eta 0:00:03\n",
      "     ----------------------------             0.8/1.2 MB 120.8 kB/s eta 0:00:03\n",
      "     ----------------------------             0.8/1.2 MB 120.8 kB/s eta 0:00:03\n",
      "     -----------------------------            0.8/1.2 MB 120.2 kB/s eta 0:00:03\n",
      "     -----------------------------            0.8/1.2 MB 120.2 kB/s eta 0:00:03\n",
      "     -----------------------------            0.8/1.2 MB 120.2 kB/s eta 0:00:03\n",
      "     -----------------------------            0.9/1.2 MB 119.8 kB/s eta 0:00:03\n",
      "     -----------------------------            0.9/1.2 MB 119.8 kB/s eta 0:00:03\n",
      "     -----------------------------            0.9/1.2 MB 119.8 kB/s eta 0:00:03\n",
      "     ------------------------------           0.9/1.2 MB 120.1 kB/s eta 0:00:03\n",
      "     ------------------------------           0.9/1.2 MB 120.1 kB/s eta 0:00:03\n",
      "     ------------------------------           0.9/1.2 MB 121.1 kB/s eta 0:00:03\n",
      "     ------------------------------           0.9/1.2 MB 121.1 kB/s eta 0:00:03\n",
      "     ------------------------------           0.9/1.2 MB 121.1 kB/s eta 0:00:03\n",
      "     -------------------------------          0.9/1.2 MB 119.9 kB/s eta 0:00:03\n",
      "     -------------------------------          0.9/1.2 MB 119.9 kB/s eta 0:00:03\n",
      "     -------------------------------          0.9/1.2 MB 119.9 kB/s eta 0:00:03\n",
      "     --------------------------------         0.9/1.2 MB 120.4 kB/s eta 0:00:02\n",
      "     --------------------------------         0.9/1.2 MB 120.4 kB/s eta 0:00:02\n",
      "     --------------------------------         0.9/1.2 MB 120.4 kB/s eta 0:00:02\n",
      "     --------------------------------         0.9/1.2 MB 120.4 kB/s eta 0:00:02\n",
      "     --------------------------------         0.9/1.2 MB 119.0 kB/s eta 0:00:02\n",
      "     --------------------------------         0.9/1.2 MB 119.0 kB/s eta 0:00:02\n",
      "     ---------------------------------        1.0/1.2 MB 119.7 kB/s eta 0:00:02\n",
      "     ---------------------------------        1.0/1.2 MB 119.7 kB/s eta 0:00:02\n",
      "     ---------------------------------        1.0/1.2 MB 121.1 kB/s eta 0:00:02\n",
      "     ---------------------------------        1.0/1.2 MB 121.1 kB/s eta 0:00:02\n",
      "     ---------------------------------        1.0/1.2 MB 121.1 kB/s eta 0:00:02\n",
      "     ----------------------------------       1.0/1.2 MB 120.5 kB/s eta 0:00:02\n",
      "     ----------------------------------       1.0/1.2 MB 120.5 kB/s eta 0:00:02\n",
      "     ----------------------------------       1.0/1.2 MB 120.5 kB/s eta 0:00:02\n",
      "     ----------------------------------       1.0/1.2 MB 120.5 kB/s eta 0:00:02\n",
      "     ----------------------------------       1.0/1.2 MB 120.7 kB/s eta 0:00:02\n",
      "     ----------------------------------       1.0/1.2 MB 120.7 kB/s eta 0:00:02\n",
      "     ----------------------------------       1.0/1.2 MB 120.7 kB/s eta 0:00:02\n",
      "     -----------------------------------      1.0/1.2 MB 119.9 kB/s eta 0:00:02\n",
      "     -----------------------------------      1.0/1.2 MB 119.9 kB/s eta 0:00:02\n",
      "     -----------------------------------      1.0/1.2 MB 119.9 kB/s eta 0:00:02\n",
      "     -----------------------------------      1.0/1.2 MB 120.6 kB/s eta 0:00:01\n",
      "     -----------------------------------      1.0/1.2 MB 120.6 kB/s eta 0:00:01\n",
      "     ------------------------------------     1.1/1.2 MB 121.4 kB/s eta 0:00:01\n",
      "     ------------------------------------     1.1/1.2 MB 121.4 kB/s eta 0:00:01\n",
      "     ------------------------------------     1.1/1.2 MB 121.4 kB/s eta 0:00:01\n",
      "     ------------------------------------     1.1/1.2 MB 120.6 kB/s eta 0:00:01\n",
      "     ------------------------------------     1.1/1.2 MB 120.6 kB/s eta 0:00:01\n",
      "     -------------------------------------    1.1/1.2 MB 121.5 kB/s eta 0:00:01\n",
      "     -------------------------------------    1.1/1.2 MB 121.5 kB/s eta 0:00:01\n",
      "     --------------------------------------   1.1/1.2 MB 121.1 kB/s eta 0:00:01\n",
      "     --------------------------------------   1.1/1.2 MB 121.1 kB/s eta 0:00:01\n",
      "     --------------------------------------   1.1/1.2 MB 121.1 kB/s eta 0:00:01\n",
      "     --------------------------------------   1.1/1.2 MB 121.7 kB/s eta 0:00:01\n",
      "     --------------------------------------   1.1/1.2 MB 121.7 kB/s eta 0:00:01\n",
      "     --------------------------------------   1.1/1.2 MB 121.7 kB/s eta 0:00:01\n",
      "     ---------------------------------------  1.1/1.2 MB 122.3 kB/s eta 0:00:01\n",
      "     ---------------------------------------  1.1/1.2 MB 122.3 kB/s eta 0:00:01\n",
      "     ---------------------------------------  1.1/1.2 MB 122.3 kB/s eta 0:00:01\n",
      "     ---------------------------------------- 1.2/1.2 MB 122.0 kB/s eta 0:00:00\n",
      "Installing collected packages: psycopg2\n",
      "Successfully installed psycopg2-2.9.10\n"
     ]
    }
   ],
   "source": [
    "!pip install psycopg2"
   ]
  },
  {
   "cell_type": "code",
   "execution_count": 58,
   "metadata": {},
   "outputs": [
    {
     "name": "stdout",
     "output_type": "stream",
     "text": [
      "Found 42 tables.\n"
     ]
    }
   ],
   "source": [
    "import requests\n",
    "import pandas as pd\n",
    "import psycopg2\n",
    "from io import StringIO\n",
    "from bs4 import BeautifulSoup\n",
    "\n",
    "# Wikipedia URL\n",
    "url = 'https://en.wikipedia.org/wiki/2023_Cricket_World_Cup_statistics'\n",
    "\n",
    "# Headers to avoid blocks by User-Agent checks\n",
    "headers = {\n",
    "    'User-Agent': 'Mozilla/5.0 (Windows NT 10.0; Win64; x64) AppleWebKit/537.36 (KHTML, like Gecko) Chrome/131.0.0.0 Safari/537.36'\n",
    "}\n",
    "\n",
    "# Fetch the web page\n",
    "response = requests.get(url, headers=headers)\n",
    "if response.status_code != 200:\n",
    "    print(f\"Error fetching the page. Status code: {response.status_code}\")\n",
    "    exit()\n",
    "\n",
    "# Parse the page content with BeautifulSoup\n",
    "soup = BeautifulSoup(response.text, 'lxml')\n",
    "\n",
    "# Find all tables with the class \"wikitable\"\n",
    "tables = soup.find_all('table', class_='wikitable')\n",
    "\n",
    "# Check if tables are found\n",
    "print(f\"Found {len(tables)} tables.\")\n",
    "\n",
    "# Extract data from each table and store them in DataFrames\n"
   ]
  },
  {
   "cell_type": "code",
   "execution_count": null,
   "metadata": {},
   "outputs": [
    {
     "name": "stdout",
     "output_type": "stream",
     "text": [
      "Table 1 extracted with 10 rows and 10 columns.\n",
      "Table 2 extracted with 6 rows and 5 columns.\n",
      "Table 3 extracted with 6 rows and 5 columns.\n",
      "Table 4 extracted with 6 rows and 4 columns.\n",
      "Table 5 extracted with 6 rows and 4 columns.\n",
      "Table 6 extracted with 6 rows and 4 columns.\n",
      "Table 7 extracted with 7 rows and 4 columns.\n",
      "Table 8 extracted with 6 rows and 4 columns.\n",
      "Table 9 extracted with 6 rows and 4 columns.\n",
      "Table 10 extracted with 6 rows and 4 columns.\n",
      "Table 11 extracted with 6 rows and 4 columns.\n",
      "Table 12 extracted with 6 rows and 5 columns.\n",
      "Table 13 extracted with 6 rows and 5 columns.\n",
      "Table 14 extracted with 8 rows and 9 columns.\n",
      "Table 15 extracted with 6 rows and 8 columns.\n",
      "Table 16 extracted with 6 rows and 13 columns.\n",
      "Table 17 extracted with 6 rows and 9 columns.\n",
      "Table 18 extracted with 6 rows and 10 columns.\n",
      "Table 19 extracted with 6 rows and 6 columns.\n",
      "Table 20 extracted with 8 rows and 6 columns.\n",
      "Table 21 extracted with 8 rows and 3 columns.\n",
      "Table 22 extracted with 6 rows and 6 columns.\n",
      "Table 23 extracted with 6 rows and 6 columns.\n",
      "Table 24 extracted with 6 rows and 6 columns.\n",
      "Table 25 extracted with 2 rows and 6 columns.\n",
      "Table 26 extracted with 6 rows and 7 columns.\n",
      "Table 27 extracted with 11 rows and 7 columns.\n",
      "Table 28 extracted with 6 rows and 6 columns.\n",
      "Table 29 extracted with 6 rows and 8 columns.\n",
      "Table 30 extracted with 6 rows and 6 columns.\n",
      "Table 31 extracted with 9 rows and 4 columns.\n",
      "Table 32 extracted with 6 rows and 3 columns.\n",
      "Table 33 extracted with 6 rows and 6 columns.\n",
      "Table 34 extracted with 6 rows and 6 columns.\n",
      "Table 35 extracted with 6 rows and 7 columns.\n",
      "Table 36 extracted with 6 rows and 6 columns.\n",
      "Table 37 extracted with 8 rows and 14 columns.\n",
      "Table 38 extracted with 4 rows and 6 columns.\n",
      "Table 39 extracted with 7 rows and 6 columns.\n",
      "Table 40 extracted with 6 rows and 4 columns.\n",
      "Table 41 extracted with 53 rows and 7 columns.\n",
      "Table 42 extracted with 2 rows and 6 columns.\n",
      "   Pos  \\\n",
      "0    1   \n",
      "1    2   \n",
      "2    3   \n",
      "3    4   \n",
      "4    5   \n",
      "\n",
      "  Team.mw-parser-output .hlist dl,.mw-parser-output .hlist ol,.mw-parser-output .hlist ul{margin:0;padding:0}.mw-parser-output .hlist dd,.mw-parser-output .hlist dt,.mw-parser-output .hlist li{margin:0;display:inline}.mw-parser-output .hlist.inline,.mw-parser-output .hlist.inline dl,.mw-parser-output .hlist.inline ol,.mw-parser-output .hlist.inline ul,.mw-parser-output .hlist dl dl,.mw-parser-output .hlist dl ol,.mw-parser-output .hlist dl ul,.mw-parser-output .hlist ol dl,.mw-parser-output .hlist ol ol,.mw-parser-output .hlist ol ul,.mw-parser-output .hlist ul dl,.mw-parser-output .hlist ul ol,.mw-parser-output .hlist ul ul{display:inline}.mw-parser-output .hlist .mw-empty-li{display:none}.mw-parser-output .hlist dt::after{content:\": \"}.mw-parser-output .hlist dd::after,.mw-parser-output .hlist li::after{content:\" · \";font-weight:bold}.mw-parser-output .hlist dd:last-child::after,.mw-parser-output .hlist dt:last-child::after,.mw-parser-output .hlist li:last-child::after{content:none}.mw-parser-output .hlist dd dd:first-child::before,.mw-parser-output .hlist dd dt:first-child::before,.mw-parser-output .hlist dd li:first-child::before,.mw-parser-output .hlist dt dd:first-child::before,.mw-parser-output .hlist dt dt:first-child::before,.mw-parser-output .hlist dt li:first-child::before,.mw-parser-output .hlist li dd:first-child::before,.mw-parser-output .hlist li dt:first-child::before,.mw-parser-output .hlist li li:first-child::before{content:\" (\";font-weight:normal}.mw-parser-output .hlist dd dd:last-child::after,.mw-parser-output .hlist dd dt:last-child::after,.mw-parser-output .hlist dd li:last-child::after,.mw-parser-output .hlist dt dd:last-child::after,.mw-parser-output .hlist dt dt:last-child::after,.mw-parser-output .hlist dt li:last-child::after,.mw-parser-output .hlist li dd:last-child::after,.mw-parser-output .hlist li dt:last-child::after,.mw-parser-output .hlist li li:last-child::after{content:\")\";font-weight:normal}.mw-parser-output .hlist ol{counter-reset:listitem}.mw-parser-output .hlist ol>li{counter-increment:listitem}.mw-parser-output .hlist ol>li::before{content:\" \"counter(listitem)\"\\a0 \"}.mw-parser-output .hlist dd ol>li:first-child::before,.mw-parser-output .hlist dt ol>li:first-child::before,.mw-parser-output .hlist li ol>li:first-child::before{content:\" (\"counter(listitem)\"\\a0 \"}.mw-parser-output .navbar{display:inline;font-size:88%;font-weight:normal}.mw-parser-output .navbar-collapse{float:left;text-align:left}.mw-parser-output .navbar-boxtext{word-spacing:0}.mw-parser-output .navbar ul{display:inline-block;white-space:nowrap;line-height:inherit}.mw-parser-output .navbar-brackets::before{margin-right:-0.125em;content:\"[ \"}.mw-parser-output .navbar-brackets::after{margin-left:-0.125em;content:\" ]\"}.mw-parser-output .navbar li{word-spacing:-0.125em}.mw-parser-output .navbar a>span,.mw-parser-output .navbar a>abbr{text-decoration:inherit}.mw-parser-output .navbar-mini abbr{font-variant:small-caps;border-bottom:none;text-decoration:none;cursor:inherit}.mw-parser-output .navbar-ct-full{font-size:114%;margin:0 7em}.mw-parser-output .navbar-ct-mini{font-size:114%;margin:0 4em}html.skin-theme-clientpref-night .mw-parser-output .navbar li a abbr{color:var(--color-base)!important}@media(prefers-color-scheme:dark){html.skin-theme-clientpref-os .mw-parser-output .navbar li a abbr{color:var(--color-base)!important}}@media print{.mw-parser-output .navbar{display:none!important}}vte  \\\n",
      "0                                          India (H)                                                                                                                                                                                                                                                                                                                                                                                                                                                                                                                                                                                                                                                                                                                                                                                                                                                                                                                                                                                                                                                                                                                                                                                                                                                                                                                                                                                                                                                                                                                                                                                                                                                                                                                                                                                                                                                                                                                                                                                                                                                                                                                                                                                                                                                                                                                                                                                                                                                                                                                                                                                                                                                                                                                                                                                                                                                                                                                                                                                                                                                                                                                                                                                                                                                                                                                                                                                                                                                                                                                                              \n",
      "1                                       South Africa                                                                                                                                                                                                                                                                                                                                                                                                                                                                                                                                                                                                                                                                                                                                                                                                                                                                                                                                                                                                                                                                                                                                                                                                                                                                                                                                                                                                                                                                                                                                                                                                                                                                                                                                                                                                                                                                                                                                                                                                                                                                                                                                                                                                                                                                                                                                                                                                                                                                                                                                                                                                                                                                                                                                                                                                                                                                                                                                                                                                                                                                                                                                                                                                                                                                                                                                                                                                                                                                                                                                              \n",
      "2                                      Australia (C)                                                                                                                                                                                                                                                                                                                                                                                                                                                                                                                                                                                                                                                                                                                                                                                                                                                                                                                                                                                                                                                                                                                                                                                                                                                                                                                                                                                                                                                                                                                                                                                                                                                                                                                                                                                                                                                                                                                                                                                                                                                                                                                                                                                                                                                                                                                                                                                                                                                                                                                                                                                                                                                                                                                                                                                                                                                                                                                                                                                                                                                                                                                                                                                                                                                                                                                                                                                                                                                                                                                                              \n",
      "3                                        New Zealand                                                                                                                                                                                                                                                                                                                                                                                                                                                                                                                                                                                                                                                                                                                                                                                                                                                                                                                                                                                                                                                                                                                                                                                                                                                                                                                                                                                                                                                                                                                                                                                                                                                                                                                                                                                                                                                                                                                                                                                                                                                                                                                                                                                                                                                                                                                                                                                                                                                                                                                                                                                                                                                                                                                                                                                                                                                                                                                                                                                                                                                                                                                                                                                                                                                                                                                                                                                                                                                                                                                                              \n",
      "4                                           Pakistan                                                                                                                                                                                                                                                                                                                                                                                                                                                                                                                                                                                                                                                                                                                                                                                                                                                                                                                                                                                                                                                                                                                                                                                                                                                                                                                                                                                                                                                                                                                                                                                                                                                                                                                                                                                                                                                                                                                                                                                                                                                                                                                                                                                                                                                                                                                                                                                                                                                                                                                                                                                                                                                                                                                                                                                                                                                                                                                                                                                                                                                                                                                                                                                                                                                                                                                                                                                                                                                                                                                                              \n",
      "\n",
      "   Pld  W  L  T  NR  Pts     NRR  \\\n",
      "0    9  9  0  0   0   18   2.570   \n",
      "1    9  7  2  0   0   14   1.261   \n",
      "2    9  7  2  0   0   14   0.841   \n",
      "3    9  5  4  0   0   10   0.743   \n",
      "4    9  4  5  0   0    8  −0.199   \n",
      "\n",
      "                                       Qualification  \n",
      "0  Advanced to the semi-finals and qualified for ...  \n",
      "1  Advanced to the semi-finals and qualified for ...  \n",
      "2  Advanced to the semi-finals and qualified for ...  \n",
      "3  Advanced to the semi-finals and qualified for ...  \n",
      "4        Qualified for the 2025 ICC Champions Trophy  \n"
     ]
    }
   ],
   "source": [
    "dfs = []\n",
    "for i, table in enumerate(tables):\n",
    "    # Convert HTML table to pandas DataFrame\n",
    "    df = pd.read_html(StringIO(str(table)))[0]\n",
    "    dfs.append(df)\n",
    "    print(f\"Table {i+1} extracted with {df.shape[0]} rows and {df.shape[1]} columns.\")\n",
    "\n",
    "# Example: Display the first DataFrame\n",
    "print(dfs[0].head())\n",
    "\n",
    "# PostgreSQL database connection details\n",
    "db_params = {\n",
    "    'dbname': 'postgres',\n",
    "    'user': 'postgres',\n",
    "    'password': 'Abhi@Postgres',\n",
    "    'host': 'localhost',  # Change to your database host\n",
    "    'port': 5432          # Default PostgreSQL port\n",
    "}\n",
    "\n",
    "# Function to store DataFrame in PostgreSQL\n",
    "def store_df_in_postgres(df, table_name, conn_params):\n",
    "    try:\n",
    "        # Establish connection\n",
    "        conn = psycopg2.connect(**conn_params)\n",
    "        cursor = conn.cursor()\n",
    "        \n",
    "        # Create table dynamically based on DataFrame columns\n",
    "        create_table_query = f\"\"\"\n",
    "        CREATE TABLE IF NOT EXISTS {table_name} (\n",
    "            {', '.join([f'\"{col}\" TEXT' for col in df.columns])}\n",
    "        );\n",
    "        \"\"\"\n",
    "        cursor.execute(create_table_query)\n",
    "        \n",
    "        # Insert DataFrame into the table\n",
    "        for _, row in df.iterrows():\n",
    "            insert_query = f\"\"\"\n",
    "            INSERT INTO {table_name} VALUES ({', '.join(['%s'] * len(row))});\n",
    "            \"\"\"\n",
    "            cursor.execute(insert_query, tuple(row))\n",
    "        \n",
    "        # Commit and close the connection\n",
    "        conn.commit()\n",
    "        cursor.close()\n",
    "        conn.close()\n",
    "        print(f\"Data successfully inserted into '{table_name}'.\")\n",
    "\n",
    "    except Exception as e:\n",
    "        print(f\"Error: {e}\")\n",
    "\n",
    "# Example: Store the first table in PostgreSQL\n",
    "if dfs:\n",
    "    store_df_in_postgres(dfs[0], 'cricket_world_cup_stats', db_params)\n"
   ]
  },
  {
   "cell_type": "code",
   "execution_count": null,
   "metadata": {},
   "outputs": [],
   "source": []
  },
  {
   "cell_type": "code",
   "execution_count": null,
   "metadata": {},
   "outputs": [],
   "source": []
  }
 ],
 "metadata": {
  "kernelspec": {
   "display_name": "base",
   "language": "python",
   "name": "python3"
  },
  "language_info": {
   "codemirror_mode": {
    "name": "ipython",
    "version": 3
   },
   "file_extension": ".py",
   "mimetype": "text/x-python",
   "name": "python",
   "nbconvert_exporter": "python",
   "pygments_lexer": "ipython3",
   "version": "3.11.3"
  }
 },
 "nbformat": 4,
 "nbformat_minor": 2
}
